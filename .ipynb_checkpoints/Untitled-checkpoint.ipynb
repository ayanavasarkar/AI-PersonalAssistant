{
 "cells": [
  {
   "cell_type": "code",
   "execution_count": 1,
   "id": "26442325-3dab-4806-b11d-19a99ddc70b8",
   "metadata": {},
   "outputs": [],
   "source": [
    "import json  # Import the JSON module to parse JSON strings\n",
    "from langchain_core.agents import AgentFinish\n",
    "from crewai import Crew, Agent, Task, Process\n",
    "from langchain_community.tools import DuckDuckGoSearchRun\n",
    "from datetime import datetime\n",
    "from random import randint\n",
    "from langchain.tools import tool\n",
    "agent_finishes  = []\n",
    "\n",
    "import json\n",
    "from typing import Union, List, Tuple, Dict\n",
    "from langchain.schema import AgentFinish\n",
    "\n",
    "import requests\n",
    "from langchain.tools import tool\n",
    "\n",
    "import os\n",
    "from crewai import Agent, Task, Crew, Process\n",
    "from langchain_community.tools import DuckDuckGoSearchRun\n",
    "from langchain.agents import load_tools\n",
    "\n",
    "search_tool = DuckDuckGoSearchRun()"
   ]
  },
  {
   "cell_type": "code",
   "execution_count": 2,
   "id": "fa451575-e5ed-4910-b5ab-65597b887b39",
   "metadata": {},
   "outputs": [],
   "source": [
    "from langchain_groq import ChatGroq\n",
    "\n",
    "GROQ_LLM = ChatGroq(\n",
    "            api_key=\"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\",\n",
    "            model=\"llama3-70b-8192\"\n",
    "        )"
   ]
  },
  {
   "cell_type": "code",
   "execution_count": 12,
   "id": "01b25aaf-231a-4547-bccb-2344921aa045",
   "metadata": {},
   "outputs": [],
   "source": [
    "from crewai import Agent\n",
    "\n",
    "class Agents:\n",
    "    def __init__(self, model) -> None:\n",
    "        self.model = model \n",
    "\n",
    "    def agent_extractPersonalInfo(self):\n",
    "        return Agent(\n",
    "            role='Personal Information Extraction Agent',\n",
    "            goal='take in unstructured information about a person and extract all personal details\\\n",
    "                and preferences from the user from that unstructured data.',\n",
    "            backstory='You are a master at extracting the necessary personal details about a person from the information entered',\n",
    "            llm = self.model,\n",
    "            verbose = True,\n",
    "            allow_delegation=False,\n",
    "            max_iter=5,\n",
    "            # memory=True,\n",
    "        )\n",
    "\n",
    "    def personal_detail_comparison(self):\n",
    "        return Agent(\n",
    "            role='Difference Identifier',\n",
    "            goal=\"\"\"take in two sources of data - old_data, which is the previous data and new_data, which is the new data entered. \\\n",
    "                both old_data and new_data contain personal details and preferences about the same person. \\\n",
    "                your goal is to compare the new_data with old_data and find the following things: \\\n",
    "                1. differences between the new data and the old data. \\\n",
    "                \\\n",
    "                I will tip you $20 if you are perfect, and I will fine you $40 if you miss any important information or \n",
    "                add any incorrect information.\n",
    "                Take a deep breath, think step by step, and then do the comparison.\"\"\",\n",
    "            backstory = \"\"\"You are a master at comparing old data with new data and identifying what must be updated based on the new information.\"\"\",\n",
    "            llm = self.model,\n",
    "            verbose = True,\n",
    "            allow_delegation=False,\n",
    "            max_iter=5,\n",
    "        )\n",
    "\n",
    "    def agent_classifyPrompt(self):\n",
    "        return Agent(\n",
    "            role='User Prompt Classification Agent',\n",
    "            goal='take in user prompt from a human and categorize it into one of the following categories: \\\n",
    "                save something in memory - when someone wants to save the previous data \\\n",
    "                deduce memory from unstructured text - when someone wants to extract information from stored data in memory \\\n",
    "                update memory - when someone wants to update the already stored information in the memory \\\n",
    "                delete memory - when someone wants to delete the entire information stored in memory \\\n",
    "                off_topic when it doesnt relate to any other category',\n",
    "            \n",
    "            backstory='You are a master at understanding what the user wants when they \\\n",
    "                they communicate with you and are able to categorize it in a useful way',\n",
    "            llm = self.model,\n",
    "            verbose = True,\n",
    "            allow_delegation=False,\n",
    "            max_iter=5,\n",
    "            # memory=True,\n",
    "        )\n",
    "\n",
    "    def extract_category(self):\n",
    "        return Agent(\n",
    "            role='Detail Extractor',\n",
    "            goal=\"\"\"you are a personal assistant who understands what the user wants to update or delete in a database based on the prompt entered. \\\n",
    "                    you would be given the user query prompt and your goal is to extract the specific detail or category \\\n",
    "                    that the user wants to update or delete with the value if it is present. \\\n",
    "                    If you do not understand the prompt; do not make up answers. \\\n",
    "                    Simply say that 'You do not have information to answer the question \"\"\",\n",
    "            verbose=True,\n",
    "            # memory=True,\n",
    "            llm = self.model,\n",
    "            max_iter=5,\n",
    "            backstory=(\n",
    "                \"You are the best personal assistant who can figure out what detail the user wants to update or delete from the query entered by the \\\n",
    "                    user. You do not need to do anything except extracting the detail or category. You do not make up answers if you do not know them.\"\n",
    "            ),\n",
    "            # tools=[],\n",
    "            allow_delegation=False,\n",
    "        )\n",
    "    \n",
    "    \n",
    "    def update_category(self):\n",
    "        return Agent(\n",
    "            role='Personal Assistant',\n",
    "            goal=\"\"\"you are a personal assistant who understands what the user wants to update in a database based on the prompt entered. \\\n",
    "                    you would be given the database data as string and the user query prompt.\n",
    "                    Your goal is to extract the specific detail or category that the user wants to update and make the change in the data given. \\\n",
    "                    If you do not understand the prompt; do not make up answers. \\\n",
    "                    Simply say that 'You do not have information to answer the question \"\"\",\n",
    "            verbose=True,\n",
    "            # memory=True,\n",
    "            llm = self.model,\n",
    "            max_iter=5,\n",
    "            backstory=(\n",
    "                \"You are the best personal assistant who figure out what detail the user wants to update from the query entered by the \\\n",
    "                    user and update the necessary part of the data. You do not make up answers if you do not know them.\"\n",
    "            ),\n",
    "            # tools=[],\n",
    "            allow_delegation=False,\n",
    "        )\n",
    "\n",
    "from crewai import Task\n",
    "# from agents import Agents\n",
    "\n",
    "class Tasks():\n",
    "    def task_personalInfo(self, data, agent):\n",
    "        return Task(\n",
    "            description=f\"\"\"Conduct a comprehensive analysis of the data provided and extract \\\n",
    "                personal information about the user from the data. \\\n",
    "                    Extract any personal choices or preferences and other things. \\\n",
    "                        \n",
    "                    DATA:\\n\\n {data} \\n\\n\"\"\",\n",
    "\n",
    "            expected_output=\"\"\"A set of bullet points for each category of the personal information. \\\n",
    "                If no information is found then return clear instructions that no useful material was found.\n",
    "                Do not add any extra string. Just extract the details.\"\"\",\n",
    "            # expected_output=\"\"\"A nested json where the key is the category of the personal information \\\n",
    "            # and the value is a necessary information about the person.\n",
    "            # If no information is found then return clear instructions that no useful material was found.\"\"\",\n",
    "            \n",
    "            # Example:\n",
    "            # {'Contact Information': {'Email': 'test@gmail.com'}, {'Phone Number': '123456789'}}\n",
    "            # \"\"\",\n",
    "            output_file=f\"extracted_info.txt\",\n",
    "            agent=agent,\n",
    "            )\n",
    "\n",
    "    def task_personal_detail_comparison(self, old_data, new_data, agent):\n",
    "        return Task(\n",
    "            description=f\"\"\" Conduct a comprehensive comparison between old data {old_data} and new data {new_data}. \n",
    "            Based on the comparison, identify the following things: \\\n",
    "            1. differences in the old and the new data. \n",
    "            \n",
    "            OLD DATA: \\n\\n {old_data} \\n\\n\n",
    "            NEW DATA: \\n\\n {new_data} \\n\\n\n",
    "\n",
    "            Use the following format during output:\n",
    "            - <category> <new_data_point> <old_data_point>\n",
    "\n",
    "            I will tip you $20 if you are perfect, and I will fine you $40 if you miss any important information or \n",
    "                add any incorrect information.\n",
    "                Take a deep breath, think step by step, and then do the comparison.\n",
    "            \"\"\",\n",
    "\n",
    "            expected_output= \"\"\" A set of bullet points of categories where there is difference between old data and new data\"\"\",\n",
    "            output_file=f\"difference_info.txt\",\n",
    "            agent=agent,\n",
    "        )\n",
    "\n",
    "        \n",
    "    def task_classifyPrompt(self, data, agent):\n",
    "        return Task(\n",
    "            description=f\"\"\"Conduct a comprehensive analysis of the prompt entered by human and categorize it into one of the following categories: \\\n",
    "                save something in memory - when someone wants to save the previous data \\\n",
    "                deduce memory from unstructured text - when someone wants to extract information from stored data in memory \\\n",
    "                update memory - when someone wants to update the already stored information in the memory \\\n",
    "                delete memory - when someone wants to delete the entire information stored in memory \\\n",
    "                off_topic when it doesnt relate to any other category \\\n",
    "                \n",
    "                USER INPUT:\\n\\n {data} \\n\\n\n",
    "                Output a single cetgory only\"\"\",\n",
    "            expected_output=\"\"\"A single categtory for the type of prompt from the types \\\n",
    "                ('save something in memory', 'deduce memory from unstructured text', 'update memory', 'delete memory', 'off_topic') \\\n",
    "                eg:\n",
    "                'update memory' \"\"\",\n",
    "            output_file=f\"categorized_user_input.txt\",\n",
    "            agent=agent,\n",
    "            )\n",
    "\n",
    "    def task_extract_category(self, prompt, agent):\n",
    "        return Task(\n",
    "            description=f\"\"\"Your task is to understand what category or specific detail the user wants to update from the {prompt} entered \n",
    "                by the user. If you do not understand please say that you do not understand what the user wants.\n",
    "                In short perform the following steps:\n",
    "                1. Thoroughly analye and understand the {prompt} entered by the user.\n",
    "                2. Extract the category or detail that the user wants to update or delete.\n",
    "                If the user wants to update with a new value, then output as a list:\n",
    "                [category, new value]\n",
    "                If the user wants to delete a category, then output as a list:\n",
    "                [category, None]\n",
    "                Just output the exact category or detail as a maximum of 5 words. Do not output a sentence.\n",
    "            \"\"\",\n",
    "            expected_output='Extract the exact detail or category that the user wants to update or delete in the data.',\n",
    "            # context= [self.task_personalInfo],\n",
    "            # human_input = True,\n",
    "            output_file=\"extract_cat.txt\",\n",
    "            agent=agent\n",
    "        )\n",
    "        \n",
    "    \n",
    "    def task_update_category(self, prompt, data, agent):\n",
    "        return Task(\n",
    "            description=\n",
    "                f\"\"\"Your task is to understand what category or specific detail the user wants to update in the {data} from the {prompt} entered \n",
    "                by the user. \\\n",
    "                If you do not understand please say that you do not understand what the user wants.\n",
    "                In short perform the following steps:\n",
    "                1. Take the user entered query and figure out what category or detail the user wants to update in the data.\n",
    "                2. From the entered query extract the new information to update the data with.\n",
    "                3. Comprehensively analyze the data given to you and extract the exact part of the data to which you need to update.\n",
    "                4. Update the part of the data.\n",
    "                5. Return the entire data with the updated part.\n",
    "                \"\"\",\n",
    "            expected_output='Update the category or detail that the user wants to update in the data.',\n",
    "            # context= [self.task_personalInfo],\n",
    "            # human_input = True,\n",
    "            output_file=\"update.txt\",\n",
    "            agent=agent\n",
    "        )\n",
    "\n",
    "    def task_delete_category(self, prompt, data, agent):\n",
    "        return Task(\n",
    "            description=\n",
    "                f\"\"\"Your task is to understand what category or specific detail the user wants to delete in the {data} from the {prompt} entered \n",
    "                by the user. \\\n",
    "                If you do not understand please say that you do not understand what the user wants.\n",
    "                In short perform the following steps:\n",
    "                1. Take the user entered query and figure out what category or detail the user wants to delete in the data.\n",
    "                2. From the entered query extract the new information to update the data with.\n",
    "                3. Comprehensively analyze the data given to you and extract the exact part of the data to which you need to delete.\n",
    "                4. Delete that specific part of the data.\n",
    "                5. Return the entire data without the deleted part.\n",
    "                \"\"\",\n",
    "            expected_output='Remove the category or detail that the user wants to delete in the data.',\n",
    "            # context= [self.task_personalInfo],\n",
    "            # human_input = True,\n",
    "            output_file=\"rmv.txt\",\n",
    "            agent=agent\n",
    "        )\n",
    "\n",
    "    "
   ]
  },
  {
   "cell_type": "code",
   "execution_count": 13,
   "id": "eb17fc28-7ccb-4001-98b0-b64f4648dfe2",
   "metadata": {},
   "outputs": [],
   "source": [
    "data = \"\"\"\n",
    "**Contact Information:**\n",
    "\n",
    "* Email: ayanavasarka@gmail.com\n",
    "* Phone Number: (408) 791-7150\n",
    "* Social Media Profiles: Github, LinkedIn, GoogleScholar\n",
    "\n",
    "**Education:**\n",
    "\n",
    "* Master's Degree in Computer Science from University of Massachusetts, Amherst (September 2019 - May 2021)\n",
    "* Bachelor's Degree in Computer Science from BITS Pilani (2013 - 2017)\n",
    "\n",
    "**Skills:**\n",
    "\n",
    "* Programming languages: Python, Java, JavaScript, C++, R\n",
    "* Libraries/Platforms: TensorFlow, PyTorch, Diffusers, LLMs, HuggingFace, LangChain, CUDA, RAY, OpenCV, Spark, Pandas, Scikit-learn, Prefect, AWS, ROS, Gazebo, MySQL, GitHub, Grafana\n",
    "\n",
    "**Work Experience:**\n",
    "\n",
    "* Machine Learning Engineer II at Iterative Health (September 2022 - Present)\n",
    "* Founder at Stealth Startup (August 2023 - March 2024)\n",
    "* AI Research Scientist at Mendel AI (September 2021 - September 2022)\n",
    "* Graduate Student Researcher at Amazon (February 2021 - June 2021)\n",
    "* Data Science Intern at NeuTigers (June 2020 - June 2021)\n",
    "\n",
    "**Publications:**\n",
    "\n",
    "* ICANN, 2018, Greece: “An energy-based convolutional SOM model with self-adaptation capabilities”\n",
    "* 9th IHCI Conference, Paris: “Dynamic Hand Gesture Recognition for Mobile Systems Using Deep RNN with LSTM”\n",
    "* 7th ICMSAO, 2017: “A Collaborative Filtering based Model for Recommending Graduate Schools”\n",
    "* Second IEEE CIICS, 2016: “Gesture Control of Drone Using a Motion Controller”\n",
    "\n",
    "**Achievements:**\n",
    "\n",
    "* Led BITSync 2024 panel for Angel Investing into startups\n",
    "* Software Lead of Team IFOR for International Aerial Robotics Competition, 2015, Georgia, Atlanta\n",
    "\"\"\""
   ]
  },
  {
   "cell_type": "code",
   "execution_count": 9,
   "id": "6c0d2b39-4878-4f70-bd3b-c9685cdf53cf",
   "metadata": {},
   "outputs": [],
   "source": [
    "model = ChatGroq(\n",
    "            api_key=\"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\",\n",
    "            model=\"llama3-70b-8192\"\n",
    "        )\n",
    "agent = Agents(model)\n",
    "tasks = Tasks()"
   ]
  },
  {
   "cell_type": "code",
   "execution_count": 17,
   "id": "8669bd33-b085-4866-9282-7fa1419620d2",
   "metadata": {
    "scrolled": true
   },
   "outputs": [
    {
     "name": "stderr",
     "output_type": "stream",
     "text": [
      "2024-06-23 14:46:01,600 - 140473108436800 - __init__.py-__init__:518 - WARNING: Overriding of current TracerProvider is not allowed\n"
     ]
    },
    {
     "name": "stdout",
     "output_type": "stream",
     "text": [
      "\u001b[1m\u001b[95m [2024-06-23 14:46:01][DEBUG]: == Working Agent: Personal Information Extraction Agent\u001b[00m\n",
      "\u001b[1m\u001b[95m [2024-06-23 14:46:01][INFO]: == Starting Task: Conduct a comprehensive analysis of the data provided and extract                 personal information about the user from the data.                     Extract any personal choices or preferences and other things.                         \n",
      "                    DATA:\n",
      "\n",
      " \n",
      "**Contact Information:**\n",
      "\n",
      "* Email: ayanavasarka@gmail.com\n",
      "* Phone Number: (408) 791-7150\n",
      "* Social Media Profiles: Github, LinkedIn, GoogleScholar\n",
      "\n",
      "**Education:**\n",
      "\n",
      "* Master's Degree in Computer Science from University of Massachusetts, Amherst (September 2019 - May 2021)\n",
      "* Bachelor's Degree in Computer Science from BITS Pilani (2013 - 2017)\n",
      "\n",
      "**Skills:**\n",
      "\n",
      "* Programming languages: Python, Java, JavaScript, C++, R\n",
      "* Libraries/Platforms: TensorFlow, PyTorch, Diffusers, LLMs, HuggingFace, LangChain, CUDA, RAY, OpenCV, Spark, Pandas, Scikit-learn, Prefect, AWS, ROS, Gazebo, MySQL, GitHub, Grafana\n",
      "\n",
      "**Work Experience:**\n",
      "\n",
      "* Machine Learning Engineer II at Iterative Health (September 2022 - Present)\n",
      "* Founder at Stealth Startup (August 2023 - March 2024)\n",
      "* AI Research Scientist at Mendel AI (September 2021 - September 2022)\n",
      "* Graduate Student Researcher at Amazon (February 2021 - June 2021)\n",
      "* Data Science Intern at NeuTigers (June 2020 - June 2021)\n",
      "\n",
      "**Publications:**\n",
      "\n",
      "* ICANN, 2018, Greece: “An energy-based convolutional SOM model with self-adaptation capabilities”\n",
      "* 9th IHCI Conference, Paris: “Dynamic Hand Gesture Recognition for Mobile Systems Using Deep RNN with LSTM”\n",
      "* 7th ICMSAO, 2017: “A Collaborative Filtering based Model for Recommending Graduate Schools”\n",
      "* Second IEEE CIICS, 2016: “Gesture Control of Drone Using a Motion Controller”\n",
      "\n",
      "**Achievements:**\n",
      "\n",
      "* Led BITSync 2024 panel for Angel Investing into startups\n",
      "* Software Lead of Team IFOR for International Aerial Robotics Competition, 2015, Georgia, Atlanta\n",
      " \n",
      "\n",
      "\u001b[00m\n",
      "\n",
      "\n",
      "\u001b[1m> Entering new CrewAgentExecutor chain...\u001b[0m\n",
      "\u001b[32;1m\u001b[1;3m\u001b[0m\u001b[32;1m\u001b[1;3mThought: I now can give a great answer\n",
      "Final Answer:\n",
      "\n",
      "**Contact Information:**\n",
      "• Email: ayanavasarka@gmail.com\n",
      "• Phone Number: (408) 791-7150\n",
      "• Social Media Profiles: Github, LinkedIn, GoogleScholar\n",
      "\n",
      "**Education:**\n",
      "• Master's Degree in Computer Science from University of Massachusetts, Amherst (September 2019 - May 2021)\n",
      "• Bachelor's Degree in Computer Science from BITS Pilani (2013 - 2017)\n",
      "\n",
      "**Skills:**\n",
      "• Programming languages: Python, Java, JavaScript, C++, R\n",
      "• Libraries/Platforms: TensorFlow, PyTorch, Diffusers, LLMs, HuggingFace, LangChain, CUDA, RAY, OpenCV, Spark, Pandas, Scikit-learn, Prefect, AWS, ROS, Gazebo, MySQL, GitHub, Grafana\n",
      "\n",
      "**Work Experience:**\n",
      "• Machine Learning Engineer II at Iterative Health (September 2022 - Present)\n",
      "• Founder at Stealth Startup (August 2023 - March 2024)\n",
      "• AI Research Scientist at Mendel AI (September 2021 - September 2022)\n",
      "• Graduate Student Researcher at Amazon (February 2021 - June 2021)\n",
      "• Data Science Intern at NeuTigers (June 2020 - June 2021)\n",
      "\n",
      "**Publications:**\n",
      "• ICANN, 2018, Greece: “An energy-based convolutional SOM model with self-adaptation capabilities”\n",
      "• 9th IHCI Conference, Paris: “Dynamic Hand Gesture Recognition for Mobile Systems Using Deep RNN with LSTM”\n",
      "• 7th ICMSAO, 2017: “A Collaborative Filtering based Model for Recommending Graduate Schools”\n",
      "• Second IEEE CIICS, 2016: “Gesture Control of Drone Using a Motion Controller”\n",
      "\n",
      "**Achievements:**\n",
      "• Led BITSync 2024 panel for Angel Investing into startups\n",
      "• Software Lead of Team IFOR for International Aerial Robotics Competition, 2015, Georgia, Atlanta\u001b[0m\n",
      "\n",
      "\u001b[1m> Finished chain.\u001b[0m\n",
      "\u001b[1m\u001b[92m [2024-06-23 14:46:03][DEBUG]: == [Personal Information Extraction Agent] Task output: **Contact Information:**\n",
      "• Email: ayanavasarka@gmail.com\n",
      "• Phone Number: (408) 791-7150\n",
      "• Social Media Profiles: Github, LinkedIn, GoogleScholar\n",
      "\n",
      "**Education:**\n",
      "• Master's Degree in Computer Science from University of Massachusetts, Amherst (September 2019 - May 2021)\n",
      "• Bachelor's Degree in Computer Science from BITS Pilani (2013 - 2017)\n",
      "\n",
      "**Skills:**\n",
      "• Programming languages: Python, Java, JavaScript, C++, R\n",
      "• Libraries/Platforms: TensorFlow, PyTorch, Diffusers, LLMs, HuggingFace, LangChain, CUDA, RAY, OpenCV, Spark, Pandas, Scikit-learn, Prefect, AWS, ROS, Gazebo, MySQL, GitHub, Grafana\n",
      "\n",
      "**Work Experience:**\n",
      "• Machine Learning Engineer II at Iterative Health (September 2022 - Present)\n",
      "• Founder at Stealth Startup (August 2023 - March 2024)\n",
      "• AI Research Scientist at Mendel AI (September 2021 - September 2022)\n",
      "• Graduate Student Researcher at Amazon (February 2021 - June 2021)\n",
      "• Data Science Intern at NeuTigers (June 2020 - June 2021)\n",
      "\n",
      "**Publications:**\n",
      "• ICANN, 2018, Greece: “An energy-based convolutional SOM model with self-adaptation capabilities”\n",
      "• 9th IHCI Conference, Paris: “Dynamic Hand Gesture Recognition for Mobile Systems Using Deep RNN with LSTM”\n",
      "• 7th ICMSAO, 2017: “A Collaborative Filtering based Model for Recommending Graduate Schools”\n",
      "• Second IEEE CIICS, 2016: “Gesture Control of Drone Using a Motion Controller”\n",
      "\n",
      "**Achievements:**\n",
      "• Led BITSync 2024 panel for Angel Investing into startups\n",
      "• Software Lead of Team IFOR for International Aerial Robotics Competition, 2015, Georgia, Atlanta\n",
      "\n",
      "\u001b[00m\n"
     ]
    }
   ],
   "source": [
    "# Create the Db with data\n",
    "\n",
    "agent2 = agent.agent_extractPersonalInfo()\n",
    "# Kick off the crew's work\n",
    "task2 = tasks.task_personalInfo(data, agent2)\n",
    "\n",
    "# Instantiate your crew with a sequential process\n",
    "crew2 = Crew(\n",
    "    agents=[agent2],\n",
    "    tasks=[task2],\n",
    "    verbose=2,\n",
    "    process=Process.sequential,\n",
    "    full_output=True,\n",
    "    share_crew=False,\n",
    ")\n",
    "\n",
    "results = crew2.kickoff()"
   ]
  },
  {
   "cell_type": "code",
   "execution_count": 19,
   "id": "47feb998-5b11-456b-aaa6-fba6e5fab202",
   "metadata": {},
   "outputs": [
    {
     "name": "stdout",
     "output_type": "stream",
     "text": [
      "load INSTRUCTOR_Transformer\n",
      "max_seq_length  512\n"
     ]
    },
    {
     "name": "stderr",
     "output_type": "stream",
     "text": [
      "/home/aya/miniconda3/envs/llm/lib/python3.12/site-packages/langchain_core/_api/deprecation.py:119: LangChainDeprecationWarning: Since Chroma 0.4.x the manual persistence method is no longer supported as docs are automatically persisted.\n",
      "  warn_deprecated(\n"
     ]
    }
   ],
   "source": [
    "# results['final_output']\n",
    "from gui import store_in_db\n",
    "store_in_db(\"extracted_info.txt\")"
   ]
  },
  {
   "cell_type": "code",
   "execution_count": 5,
   "id": "d5154d85-8d7b-4aff-958d-4f42b38ac775",
   "metadata": {},
   "outputs": [],
   "source": [
    "model = ChatGroq(\n",
    "            api_key=\"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\",\n",
    "            model=\"llama3-70b-8192\"\n",
    "        )\n",
    "agent = Agents(model=model)\n",
    "tasks = Tasks()"
   ]
  },
  {
   "cell_type": "code",
   "execution_count": 20,
   "id": "8d3664b3-ba35-4db2-a5f6-127cad6c9439",
   "metadata": {},
   "outputs": [
    {
     "name": "stdout",
     "output_type": "stream",
     "text": [
      "load INSTRUCTOR_Transformer\n",
      "max_seq_length  512\n",
      "Loading DB....\n"
     ]
    },
    {
     "data": {
      "text/plain": [
       "<chroma_aya.Chroma_AYA at 0x7fc1dc288cb0>"
      ]
     },
     "execution_count": 20,
     "metadata": {},
     "output_type": "execute_result"
    }
   ],
   "source": [
    "from gui import load_db\n",
    "vectordb = load_db()\n",
    "\n",
    "vectordb"
   ]
  },
  {
   "cell_type": "code",
   "execution_count": 26,
   "id": "e3e0ae62-a78d-48dd-9ab3-dab8bedf813d",
   "metadata": {},
   "outputs": [
    {
     "data": {
      "text/plain": [
       "\"**Contact Information:**\\n• Email: ayanavasarka@gmail.com\\n• Phone Number: (408) 791-7150\\n• Social Media Profiles: Github, LinkedIn, GoogleScholar\\n\\n**Education:**\\n• Master's Degree in Computer Science from University of Massachusetts, Amherst (September 2019 - May 2021)\\n• Bachelor's Degree in Computer Science from BITS Pilani (2013 - 2017)\\n\\n**Skills:**\\n• Programming languages: Python, Java, JavaScript, C++, R\\n• Libraries/Platforms: TensorFlow, PyTorch, Diffusers, LLMs, HuggingFace, LangChain, CUDA, RAY, OpenCV, Spark, Pandas, Scikit-learn, Prefect, AWS, ROS, Gazebo, MySQL, GitHub, Grafana\\n\\n**Work Experience:**\\n• Machine Learning Engineer II at Iterative Health (September 2022 - Present)\\n• Founder at Stealth Startup (August 2023 - March 2024)\\n• AI Research Scientist at Mendel AI (September 2021 - September 2022)\\n• Graduate Student Researcher at Amazon (February 2021 - June 2021)\\n• Data Science Intern at NeuTigers (June 2020 - June 2021)\""
      ]
     },
     "execution_count": 26,
     "metadata": {},
     "output_type": "execute_result"
    }
   ],
   "source": [
    "docs = vectordb.similarity_search(\"update the email id with aya@gmail.com\")\n",
    "docs[0].page_content"
   ]
  },
  {
   "cell_type": "code",
   "execution_count": 30,
   "id": "9b2ae775-48e3-4e24-904f-faec3aa8de1c",
   "metadata": {
    "scrolled": true
   },
   "outputs": [
    {
     "name": "stderr",
     "output_type": "stream",
     "text": [
      "2024-06-23 15:04:26,222 - 140473108436800 - __init__.py-__init__:518 - WARNING: Overriding of current TracerProvider is not allowed\n"
     ]
    },
    {
     "name": "stdout",
     "output_type": "stream",
     "text": [
      "\u001b[1m\u001b[95m [2024-06-23 15:04:26][DEBUG]: == Working Agent: Personal Assistant\u001b[00m\n",
      "\u001b[1m\u001b[95m [2024-06-23 15:04:26][INFO]: == Starting Task: Your task is to understand what category or specific detail the user wants to update in the **Contact Information:**\n",
      "• Email: ayanavasarka@gmail.com\n",
      "• Phone Number: (408) 791-7150\n",
      "• Social Media Profiles: Github, LinkedIn, GoogleScholar\n",
      "\n",
      "**Education:**\n",
      "• Master's Degree in Computer Science from University of Massachusetts, Amherst (September 2019 - May 2021)\n",
      "• Bachelor's Degree in Computer Science from BITS Pilani (2013 - 2017)\n",
      "\n",
      "**Skills:**\n",
      "• Programming languages: Python, Java, JavaScript, C++, R\n",
      "• Libraries/Platforms: TensorFlow, PyTorch, Diffusers, LLMs, HuggingFace, LangChain, CUDA, RAY, OpenCV, Spark, Pandas, Scikit-learn, Prefect, AWS, ROS, Gazebo, MySQL, GitHub, Grafana\n",
      "\n",
      "**Work Experience:**\n",
      "• Machine Learning Engineer II at Iterative Health (September 2022 - Present)\n",
      "• Founder at Stealth Startup (August 2023 - March 2024)\n",
      "• AI Research Scientist at Mendel AI (September 2021 - September 2022)\n",
      "• Graduate Student Researcher at Amazon (February 2021 - June 2021)\n",
      "• Data Science Intern at NeuTigers (June 2020 - June 2021) from the update the email id with test@g.com entered \n",
      "                by the user.                 If you do not understand please say that you do not understand what the user wants.\n",
      "                In short perform the following steps:\n",
      "                1. Take the user entered query and figure out what category or detail the user wants to update in the data.\n",
      "                2. From the entered query extract the new information to update the data with.\n",
      "                3. Comprehensively analyze the data given to you and extract the exact part of the data to which you need to update.\n",
      "                4. Update the part of the data.\n",
      "                5. Return the entire data with the updated part.\n",
      "                \u001b[00m\n",
      "\n",
      "\n",
      "\u001b[1m> Entering new CrewAgentExecutor chain...\u001b[0m\n",
      "\u001b[32;1m\u001b[1;3mI understand that the user wants to update the email ID in the Contact Information category with the new email ID \"test@g.com\".\n",
      "\n",
      "Final Answer:\n",
      "**Contact Information:**\n",
      "• Email: test@g.com\n",
      "• Phone Number: (408) 791-7150\n",
      "• Social Media Profiles: Github, LinkedIn, GoogleScholar\n",
      "\n",
      "**Education:**\n",
      "• Master's Degree in Computer Science from University of Massachusetts, Amherst (September 2019 - May 2021)\n",
      "• Bachelor's Degree in Computer Science from BITS Pilani (2013 - 2017)\n",
      "\n",
      "**Skills:**\n",
      "• Programming languages: Python, Java, JavaScript, C++, R\n",
      "• Libraries/Platforms: TensorFlow, PyTorch, Diffusers, LLMs, HuggingFace, LangChain, CUDA, RAY, OpenCV, Spark, Pandas, Scikit-learn, Prefect, AWS, ROS, Gazebo, MySQL, GitHub, Grafana\n",
      "\n",
      "**Work Experience:**\n",
      "• Machine Learning Engineer II at Iterative Health (September 2022 - Present)\n",
      "• Founder at Stealth Startup (August 2023 - March 2024)\n",
      "• AI Research Scientist at Mendel AI (September 2021 - September 2022)\n",
      "• Graduate Student Researcher at Amazon (February 2021 - June 2021)\n",
      "• Data Science Intern at NeuTigers (June 2020 - June 2021)\u001b[0m\n",
      "\n",
      "\u001b[1m> Finished chain.\u001b[0m\n",
      "\u001b[1m\u001b[92m [2024-06-23 15:04:27][DEBUG]: == [Personal Assistant] Task output: **Contact Information:**\n",
      "• Email: test@g.com\n",
      "• Phone Number: (408) 791-7150\n",
      "• Social Media Profiles: Github, LinkedIn, GoogleScholar\n",
      "\n",
      "**Education:**\n",
      "• Master's Degree in Computer Science from University of Massachusetts, Amherst (September 2019 - May 2021)\n",
      "• Bachelor's Degree in Computer Science from BITS Pilani (2013 - 2017)\n",
      "\n",
      "**Skills:**\n",
      "• Programming languages: Python, Java, JavaScript, C++, R\n",
      "• Libraries/Platforms: TensorFlow, PyTorch, Diffusers, LLMs, HuggingFace, LangChain, CUDA, RAY, OpenCV, Spark, Pandas, Scikit-learn, Prefect, AWS, ROS, Gazebo, MySQL, GitHub, Grafana\n",
      "\n",
      "**Work Experience:**\n",
      "• Machine Learning Engineer II at Iterative Health (September 2022 - Present)\n",
      "• Founder at Stealth Startup (August 2023 - March 2024)\n",
      "• AI Research Scientist at Mendel AI (September 2021 - September 2022)\n",
      "• Graduate Student Researcher at Amazon (February 2021 - June 2021)\n",
      "• Data Science Intern at NeuTigers (June 2020 - June 2021)\n",
      "\n",
      "\u001b[00m\n",
      "**Contact Information:**\n",
      "• Email: test@g.com\n",
      "• Phone Number: (408) 791-7150\n",
      "• Social Media Profiles: Github, LinkedIn, GoogleScholar\n",
      "\n",
      "**Education:**\n",
      "• Master's Degree in Computer Science from University of Massachusetts, Amherst (September 2019 - May 2021)\n",
      "• Bachelor's Degree in Computer Science from BITS Pilani (2013 - 2017)\n",
      "\n",
      "**Skills:**\n",
      "• Programming languages: Python, Java, JavaScript, C++, R\n",
      "• Libraries/Platforms: TensorFlow, PyTorch, Diffusers, LLMs, HuggingFace, LangChain, CUDA, RAY, OpenCV, Spark, Pandas, Scikit-learn, Prefect, AWS, ROS, Gazebo, MySQL, GitHub, Grafana\n",
      "\n",
      "**Work Experience:**\n",
      "• Machine Learning Engineer II at Iterative Health (September 2022 - Present)\n",
      "• Founder at Stealth Startup (August 2023 - March 2024)\n",
      "• AI Research Scientist at Mendel AI (September 2021 - September 2022)\n",
      "• Graduate Student Researcher at Amazon (February 2021 - June 2021)\n",
      "• Data Science Intern at NeuTigers (June 2020 - June 2021)\n"
     ]
    }
   ],
   "source": [
    "ag = agent.update_category()\n",
    "t = tasks.task_update_category(\"update the email id with test@g.com\", docs[0].page_content, ag)\n",
    "c = Crew(\n",
    "    agents=[ag],\n",
    "    tasks=[t],\n",
    "    verbose=2,\n",
    "    process=Process.sequential,\n",
    "    full_output=True,\n",
    "    share_crew=False,\n",
    ")\n",
    "r = c.kickoff()\n",
    "print(r['final_output'])"
   ]
  },
  {
   "cell_type": "code",
   "execution_count": 34,
   "id": "05824ee2-acb8-4d3f-bd94-7a05c33877d8",
   "metadata": {},
   "outputs": [
    {
     "data": {
      "text/plain": [
       "('ad6703e6-10c6-4cff-8ae8-db181dbf6a2c',\n",
       " Document(page_content=\"**Contact Information:**\\n• Email: ayanavasarka@gmail.com\\n• Phone Number: (408) 791-7150\\n• Social Media Profiles: Github, LinkedIn, GoogleScholar\\n\\n**Education:**\\n• Master's Degree in Computer Science from University of Massachusetts, Amherst (September 2019 - May 2021)\\n• Bachelor's Degree in Computer Science from BITS Pilani (2013 - 2017)\\n\\n**Skills:**\\n• Programming languages: Python, Java, JavaScript, C++, R\\n• Libraries/Platforms: TensorFlow, PyTorch, Diffusers, LLMs, HuggingFace, LangChain, CUDA, RAY, OpenCV, Spark, Pandas, Scikit-learn, Prefect, AWS, ROS, Gazebo, MySQL, GitHub, Grafana\\n\\n**Work Experience:**\\n• Machine Learning Engineer II at Iterative Health (September 2022 - Present)\\n• Founder at Stealth Startup (August 2023 - March 2024)\\n• AI Research Scientist at Mendel AI (September 2021 - September 2022)\\n• Graduate Student Researcher at Amazon (February 2021 - June 2021)\\n• Data Science Intern at NeuTigers (June 2020 - June 2021)\", metadata={'source': 'extracted_info.txt', 'id': 'ad6703e6-10c6-4cff-8ae8-db181dbf6a2c'}))"
      ]
     },
     "execution_count": 34,
     "metadata": {},
     "output_type": "execute_result"
    }
   ],
   "source": [
    "docs[0].metadata['id'], docs[0]"
   ]
  },
  {
   "cell_type": "code",
   "execution_count": 37,
   "id": "29f04600-f22c-4090-a843-1adbe664194a",
   "metadata": {},
   "outputs": [],
   "source": [
    "from langchain_core.documents import Document\n",
    "\n",
    "document = docs[0]\n",
    "document.page_content = r['final_output']\n",
    "vectordb.update_document('ad6703e6-10c6-4cff-8ae8-db181dbf6a2c', document)"
   ]
  },
  {
   "cell_type": "code",
   "execution_count": 42,
   "id": "553e99ff-55b9-4fc0-990c-6b6a773d5d00",
   "metadata": {},
   "outputs": [],
   "source": [
    "# vectordb.get(\"ad6703e6-10c6-4cff-8ae8-db181dbf6a2c\")\n",
    "vectordb.persist()"
   ]
  },
  {
   "cell_type": "code",
   "execution_count": 41,
   "id": "82800b20-f916-4f9f-9fe7-bbda1181fc25",
   "metadata": {},
   "outputs": [
    {
     "data": {
      "text/plain": [
       "{'ids': ['5b6fb8aa-93e7-4099-89ac-8845c4979c05',\n",
       "  'ad6703e6-10c6-4cff-8ae8-db181dbf6a2c',\n",
       "  'c90d911c-38d0-47d4-ad27-683e524af0ac',\n",
       "  'ee1507a1-dcac-4a1c-b449-ef4ebe8b8387'],\n",
       " 'embeddings': None,\n",
       " 'metadatas': [{'source': 'extracted_info.txt'},\n",
       "  {'id': 'ad6703e6-10c6-4cff-8ae8-db181dbf6a2c',\n",
       "   'source': 'extracted_info.txt'},\n",
       "  {'source': 'extracted_info.txt'},\n",
       "  {'source': 'extracted_info.txt'}],\n",
       " 'documents': [\"**Education:**\\n• Master's Degree in Computer Science from University of Massachusetts, Amherst (September 2019 - May 2021)\\n• Bachelor's Degree in Computer Science from BITS Pilani (2013 - 2017)\\n\\n**Skills:**\\n• Programming languages: Python, Java, JavaScript, C++, R\\n• Libraries/Platforms: TensorFlow, PyTorch, Diffusers, LLMs, HuggingFace, LangChain, CUDA, RAY, OpenCV, Spark, Pandas, Scikit-learn, Prefect, AWS, ROS, Gazebo, MySQL, GitHub, Grafana\\n\\n**Work Experience:**\\n• Machine Learning Engineer II at Iterative Health (September 2022 - Present)\\n• Founder at Stealth Startup (August 2023 - March 2024)\\n• AI Research Scientist at Mendel AI (September 2021 - September 2022)\\n• Graduate Student Researcher at Amazon (February 2021 - June 2021)\\n• Data Science Intern at NeuTigers (June 2020 - June 2021)\",\n",
       "  \"**Contact Information:**\\n• Email: test@g.com\\n• Phone Number: (408) 791-7150\\n• Social Media Profiles: Github, LinkedIn, GoogleScholar\\n\\n**Education:**\\n• Master's Degree in Computer Science from University of Massachusetts, Amherst (September 2019 - May 2021)\\n• Bachelor's Degree in Computer Science from BITS Pilani (2013 - 2017)\\n\\n**Skills:**\\n• Programming languages: Python, Java, JavaScript, C++, R\\n• Libraries/Platforms: TensorFlow, PyTorch, Diffusers, LLMs, HuggingFace, LangChain, CUDA, RAY, OpenCV, Spark, Pandas, Scikit-learn, Prefect, AWS, ROS, Gazebo, MySQL, GitHub, Grafana\\n\\n**Work Experience:**\\n• Machine Learning Engineer II at Iterative Health (September 2022 - Present)\\n• Founder at Stealth Startup (August 2023 - March 2024)\\n• AI Research Scientist at Mendel AI (September 2021 - September 2022)\\n• Graduate Student Researcher at Amazon (February 2021 - June 2021)\\n• Data Science Intern at NeuTigers (June 2020 - June 2021)\",\n",
       "  \"**Publications:**\\n• ICANN, 2018, Greece: “An energy-based convolutional SOM model with self-adaptation capabilities”\\n• 9th IHCI Conference, Paris: “Dynamic Hand Gesture Recognition for Mobile Systems Using Deep RNN with LSTM”\\n• 7th ICMSAO, 2017: “A Collaborative Filtering based Model for Recommending Graduate Schools”\\n• Second IEEE CIICS, 2016: “Gesture Control of Drone Using a Motion Controller”\\n\\n**Achievements:**\\n• Led BITSync 2024 panel for Angel Investing into startups\\n• Software Lead of Team IFOR for International Aerial Robotics Competition, 2015, Georgia, Atlanta**Contact Information:**\\n• Email: ayanavasarka@gmail.com\\n• Phone Number: (408) 791-7150\\n• Social Media Profiles: Github, LinkedIn, GoogleScholar\\n\\n**Education:**\\n• Master's Degree in Computer Science from University of Massachusetts, Amherst (September 2019 - May 2021)\\n• Bachelor's Degree in Computer Science from BITS Pilani (2013 - 2017)\",\n",
       "  '**Publications:**\\n• ICANN, 2018, Greece: “An energy-based convolutional SOM model with self-adaptation capabilities”\\n• 9th IHCI Conference, Paris: “Dynamic Hand Gesture Recognition for Mobile Systems Using Deep RNN with LSTM”\\n• 7th ICMSAO, 2017: “A Collaborative Filtering based Model for Recommending Graduate Schools”\\n• Second IEEE CIICS, 2016: “Gesture Control of Drone Using a Motion Controller”\\n\\n**Achievements:**\\n• Led BITSync 2024 panel for Angel Investing into startups\\n• Software Lead of Team IFOR for International Aerial Robotics Competition, 2015, Georgia, Atlanta'],\n",
       " 'uris': None,\n",
       " 'data': None}"
      ]
     },
     "execution_count": 41,
     "metadata": {},
     "output_type": "execute_result"
    }
   ],
   "source": [
    "vectordb.get()"
   ]
  },
  {
   "cell_type": "code",
   "execution_count": 43,
   "id": "582e70a4-1a27-4a4f-9a38-178896d5c939",
   "metadata": {},
   "outputs": [],
   "source": [
    "c = r['final_output'].split(',')[0].split(\"[\")[-1]"
   ]
  },
  {
   "cell_type": "code",
   "execution_count": 45,
   "id": "0cc874fc-3da7-4123-9bba-32344ae0cb12",
   "metadata": {},
   "outputs": [
    {
     "data": {
      "text/plain": [
       "Document(page_content=\"Here is the updated comprehensive analysis of the data provided and extracted personal information about AYANAVA SARKAR:\\n\\n**Contact Information:**\\n• Email: ayanavas@gmail.com\\n• Phone Number: (408) 791-7150\\n• Social Media Profiles: \\n  • Github\\n  • LinkedIn\\n  • GoogleScholar\\n\\n**Education:**\\n• Master's Degree in Computer Science from University of Massachusetts, Amherst (September 2019 - May 2021)\\n• Bachelor's Degree in Computer Science from BITS Pilani (2013 - 2017)\\n\\n**Skills:**\\n• Programming languages: \\n  • Python\\n  • Java\\n  • JavaScript\\n  • C++\\n  • R\\n• Libraries/Platforms: \\n  • TensorFlow\\n  • PyTorch\\n  • Diffusers\\n  • LLMs\\n  • HuggingFace\\n  • LangChain\\n  • CUDA\\n  • RAY\\n  • OpenCV\\n  • Spark\\n  • Pandas\\n  • Scikit-learn\\n  • Prefect\\n  • AWS\\n  • ROS\\n  • Gazebo\\n  • MySQL\\n  • GitHub\\n  • Grafana\", metadata={'id': '2a2021fa-a281-4a08-98b0-10ba99027b13', 'source': 'extracted_info.txt'})"
      ]
     },
     "execution_count": 45,
     "metadata": {},
     "output_type": "execute_result"
    }
   ],
   "source": [
    "docs = vectordb.similarity_search(c)\n",
    "docs[0]"
   ]
  },
  {
   "cell_type": "code",
   "execution_count": null,
   "id": "76084ae4-cd88-4544-bc26-6e4136113443",
   "metadata": {},
   "outputs": [],
   "source": [
    "update_documents(ids, documents)"
   ]
  },
  {
   "cell_type": "code",
   "execution_count": 5,
   "id": "ebed4958-491f-4c6a-9d4f-55d8c0499da8",
   "metadata": {
    "scrolled": true
   },
   "outputs": [
    {
     "ename": "NameError",
     "evalue": "name 'Agents' is not defined",
     "output_type": "error",
     "traceback": [
      "\u001b[0;31m---------------------------------------------------------------------------\u001b[0m",
      "\u001b[0;31mNameError\u001b[0m                                 Traceback (most recent call last)",
      "Cell \u001b[0;32mIn[5], line 5\u001b[0m\n\u001b[1;32m      1\u001b[0m model \u001b[38;5;241m=\u001b[39m ChatGroq(\n\u001b[1;32m      2\u001b[0m             api_key\u001b[38;5;241m=\u001b[39m\u001b[38;5;124m\"\u001b[39m\u001b[38;5;124mgsk_jaHFRGF7d6VU1ij2WfF4WGdyb3FYQkLAVcE0B4J588t6VohLvtFg\u001b[39m\u001b[38;5;124m\"\u001b[39m,\n\u001b[1;32m      3\u001b[0m             model\u001b[38;5;241m=\u001b[39m\u001b[38;5;124m\"\u001b[39m\u001b[38;5;124mllama3-70b-8192\u001b[39m\u001b[38;5;124m\"\u001b[39m\n\u001b[1;32m      4\u001b[0m         )\n\u001b[0;32m----> 5\u001b[0m agent \u001b[38;5;241m=\u001b[39m \u001b[43mAgents\u001b[49m(model)\n\u001b[1;32m      6\u001b[0m tasks \u001b[38;5;241m=\u001b[39m Tasks()\n\u001b[1;32m      8\u001b[0m agent1 \u001b[38;5;241m=\u001b[39m agent\u001b[38;5;241m.\u001b[39magent_classifyPrompt()\n",
      "\u001b[0;31mNameError\u001b[0m: name 'Agents' is not defined"
     ]
    }
   ],
   "source": [
    "\n",
    "\n",
    "\n",
    "agent1 = agent.agent_classifyPrompt()\n",
    "agent2 = agent.agent_extractPersonalInfo()\n",
    "\n",
    "# Kick off the crew's work\n",
    "task1 = tasks.task_classifyPrompt(\"save to memory\", agent1)\n",
    "task2 = tasks.task_personalInfo(data)\n",
    "\n",
    "# Instantiate your crew with a sequential process\n",
    "crew2 = Crew(\n",
    "    agents=[agent1, agent2],\n",
    "    tasks=[task1, task2],\n",
    "    verbose=2,\n",
    "    process=Process.sequential,\n",
    "    full_output=True,\n",
    "    share_crew=False,\n",
    ")\n",
    "\n",
    "results = crew2.kickoff()\n",
    "results['final_output']"
   ]
  },
  {
   "cell_type": "code",
   "execution_count": 7,
   "id": "60951b1a-3121-40fa-ad4e-a0ab7dc65ac0",
   "metadata": {
    "scrolled": true
   },
   "outputs": [],
   "source": [
    "from langchain_community.vectorstores.chroma import Chroma\n",
    "from langchain_community.document_loaders import TextLoader\n",
    "from langchain_community.embeddings.sentence_transformer import (\n",
    "    SentenceTransformerEmbeddings,\n",
    ")\n",
    "from langchain_text_splitters import CharacterTextSplitter, RecursiveCharacterTextSplitter\n",
    "\n",
    "loader = TextLoader(\"extracted_info.txt\")\n",
    "documents = loader.load()\n",
    "\n",
    "#splitting the text into\n",
    "text_splitter = RecursiveCharacterTextSplitter(chunk_size=1000, chunk_overlap=200)\n",
    "texts = text_splitter.split_documents(documents)"
   ]
  },
  {
   "cell_type": "code",
   "execution_count": 4,
   "id": "2140b480-753f-4a53-ac01-f0e647c5322a",
   "metadata": {},
   "outputs": [
    {
     "data": {
      "text/plain": [
       "[Document(page_content=\"Here is the comprehensive analysis of the data provided and extracted personal information about AYANAVA SARKAR:\\n\\n**Contact Information:**\\n• Email: ayanavasarka@gmail.com\\n• Phone Number: (408) 791-7150\\n• Social Media Profiles: \\n  • Github\\n  • LinkedIn\\n  • GoogleScholar\\n\\n**Education:**\\n• Master's Degree in Computer Science from University of Massachusetts, Amherst (September 2019 - May 2021)\\n• Bachelor's Degree in Computer Science from BITS Pilani (2013 - 2017)\\n\\n**Skills:**\\n• Programming languages: \\n  • Python\\n  • Java\\n  • JavaScript\\n  • C++\\n  • R\\n• Libraries/Platforms: \\n  • TensorFlow\\n  • PyTorch\\n  • Diffusers\\n  • LLMs\\n  • HuggingFace\\n  • LangChain\\n  • CUDA\\n  • RAY\\n  • OpenCV\\n  • Spark\\n  • Pandas\\n  • Scikit-learn\\n  • Prefect\\n  • AWS\\n  • ROS\\n  • Gazebo\\n  • MySQL\\n  • GitHub\\n  • Grafana\\n\\n**Work Experience:**\\n• Machine Learning Engineer II at Iterative Health (September 2022 - Present)\\n• Founder at Stealth Startup (August 2023 - March 2024)\\n• AI Research Scientist at Mendel AI (September 2021 - September 2022)\\n• Graduate Student Researcher at Amazon (February 2021 - June 2021)\\n• Data Science Intern at NeuTigers (June 2020 - June 2021)\\n\\n**Publications:**\\n• ICANN, 2018, Greece: “An energy-based convolutional SOM model with self-adaptation capabilities”\\n• 9th IHCI Conference, Paris: “Dynamic Hand Gesture Recognition for Mobile Systems Using Deep RNN with LSTM”\\n• 7th ICMSAO, 2017: “A Collaborative Filtering based Model for Recommending Graduate Schools”\\n• Second IEEE CIICS, 2016: “Gesture Control of Drone Using a Motion Controller”\\n\\n**Achievements:**\\n• Led BITSync 2024 panel for Angel Investing into startups\\n• Software Lead of Team IFOR for International Aerial Robotics Competition, 2015, Georgia, Atlanta\", metadata={'source': 'extracted_info.txt'})]"
      ]
     },
     "execution_count": 4,
     "metadata": {},
     "output_type": "execute_result"
    }
   ],
   "source": [
    "documents"
   ]
  },
  {
   "cell_type": "code",
   "execution_count": 8,
   "id": "8749c851-9341-40b6-bf41-7b6762e4e858",
   "metadata": {
    "scrolled": true
   },
   "outputs": [
    {
     "name": "stderr",
     "output_type": "stream",
     "text": [
      "/home/aya/miniconda3/envs/aya/lib/python3.12/site-packages/InstructorEmbedding/instructor.py:7: TqdmExperimentalWarning: Using `tqdm.autonotebook.tqdm` in notebook mode. Use `tqdm.tqdm` instead to force console mode (e.g. in jupyter console)\n",
      "  from tqdm.autonotebook import trange\n"
     ]
    },
    {
     "name": "stdout",
     "output_type": "stream",
     "text": [
      "load INSTRUCTOR_Transformer\n",
      "max_seq_length  512\n"
     ]
    }
   ],
   "source": [
    "from langchain.embeddings import HuggingFaceInstructEmbeddings\n",
    "from InstructorEmbedding import INSTRUCTOR\n",
    "instructor_embeddings = HuggingFaceInstructEmbeddings(model_name=\"hkunlp/instructor-base\")\n"
   ]
  },
  {
   "cell_type": "code",
   "execution_count": 8,
   "id": "4994b572-a5fd-4e32-bd77-641984cde447",
   "metadata": {
    "scrolled": true
   },
   "outputs": [],
   "source": [
    "import shutil, os\n",
    "if os.path.exists(persist_directory):\n",
    "    shutil.rmtree(persist_directory)\n",
    "# !pip install chromadb==0.4.14"
   ]
  },
  {
   "cell_type": "code",
   "execution_count": 25,
   "id": "6eaa0dd2-af1e-4cab-af32-6cb38eaca5a4",
   "metadata": {},
   "outputs": [
    {
     "ename": "NameError",
     "evalue": "name 'instructor_embeddings' is not defined",
     "output_type": "error",
     "traceback": [
      "\u001b[0;31m---------------------------------------------------------------------------\u001b[0m",
      "\u001b[0;31mNameError\u001b[0m                                 Traceback (most recent call last)",
      "Cell \u001b[0;32mIn[25], line 5\u001b[0m\n\u001b[1;32m      3\u001b[0m persist_directory \u001b[38;5;241m=\u001b[39m \u001b[38;5;124m'\u001b[39m\u001b[38;5;124m/home/aya/mem0/db0\u001b[39m\u001b[38;5;124m'\u001b[39m\n\u001b[1;32m      4\u001b[0m \u001b[38;5;66;03m## Here is the nmew embeddings being used\u001b[39;00m\n\u001b[0;32m----> 5\u001b[0m embedding \u001b[38;5;241m=\u001b[39m \u001b[43minstructor_embeddings\u001b[49m\n\u001b[1;32m      6\u001b[0m ids \u001b[38;5;241m=\u001b[39m [\u001b[38;5;28mstr\u001b[39m(i) \u001b[38;5;28;01mfor\u001b[39;00m i \u001b[38;5;129;01min\u001b[39;00m \u001b[38;5;28mrange\u001b[39m(\u001b[38;5;241m1\u001b[39m, \u001b[38;5;28mlen\u001b[39m(texts) \u001b[38;5;241m+\u001b[39m \u001b[38;5;241m1\u001b[39m)]\n\u001b[1;32m      8\u001b[0m \u001b[38;5;66;03m# vectordb = Chroma_AYA.from_documents(documents=texts, \u001b[39;00m\n\u001b[1;32m      9\u001b[0m \u001b[38;5;66;03m#                                  embedding=embedding,\u001b[39;00m\n\u001b[1;32m     10\u001b[0m \u001b[38;5;66;03m#                                  ids = ids,\u001b[39;00m\n\u001b[0;32m   (...)\u001b[0m\n\u001b[1;32m     13\u001b[0m \u001b[38;5;66;03m# vectordb.persist()\u001b[39;00m\n\u001b[1;32m     14\u001b[0m \u001b[38;5;66;03m# del vectordb\u001b[39;00m\n",
      "\u001b[0;31mNameError\u001b[0m: name 'instructor_embeddings' is not defined"
     ]
    }
   ],
   "source": [
    "from langchain_groq import ChatGroq\n",
    "from chroma_aya import Chroma_AYA\n",
    "persist_directory = '/home/aya/mem0/db0'\n",
    "## Here is the nmew embeddings being used\n",
    "embedding = instructor_embeddings\n",
    "ids = [str(i) for i in range(1, len(texts) + 1)]\n",
    "\n",
    "# vectordb = Chroma_AYA.from_documents(documents=texts, \n",
    "#                                  embedding=embedding,\n",
    "#                                  ids = ids,\n",
    "#                                  persist_directory=persist_directory)\n",
    "# # persiste the db to disk\n",
    "# vectordb.persist()\n",
    "# del vectordb\n",
    "vectordb = None\n",
    "\n",
    "# Now we can load the persisted database from disk, and use it as normal. \n",
    "vectordb = Chroma_AYA(persist_directory=persist_directory, \n",
    "                  embedding_function=embedding)"
   ]
  },
  {
   "cell_type": "code",
   "execution_count": 14,
   "id": "0b89ab3e-cf35-49fa-9d13-ec9d50c53a49",
   "metadata": {},
   "outputs": [
    {
     "data": {
      "text/plain": [
       "['2a2021fa-a281-4a08-98b0-10ba99027b13',\n",
       " '4815bcde-b847-4fe0-b588-4ed362394dbf',\n",
       " '551dd3fc-df11-41c6-bc2d-c80bd0d10236',\n",
       " '6f2cf74f-e6f5-4204-8cf4-b197d8707c33']"
      ]
     },
     "execution_count": 14,
     "metadata": {},
     "output_type": "execute_result"
    }
   ],
   "source": [
    "vectordb.get()['ids']"
   ]
  },
  {
   "cell_type": "code",
   "execution_count": 16,
   "id": "fc1213e7-7bd9-4e38-8137-874e61e24c02",
   "metadata": {},
   "outputs": [],
   "source": [
    "from langchain.chains import RetrievalQA\n",
    "\n",
    "retriever = vectordb.as_retriever(search_kwargs={\"k\": 3})\n",
    "model = ChatGroq(\n",
    "            api_key=\"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\",\n",
    "            model=\"llama3-70b-8192\"\n",
    "        )\n",
    "# create the chain to answer questions \n",
    "qa_chain = RetrievalQA.from_chain_type(llm=model, \n",
    "                                  chain_type=\"stuff\", \n",
    "                                  retriever=retriever, \n",
    "                                  return_source_documents=True)\n",
    "## Cite sources\n",
    "\n",
    "import textwrap\n",
    "\n",
    "def wrap_text_preserve_newlines(text, width=110):\n",
    "    # Split the input text into lines based on newline characters\n",
    "    lines = text.split('\\n')\n",
    "\n",
    "    # Wrap each line individually\n",
    "    wrapped_lines = [textwrap.fill(line, width=width) for line in lines]\n",
    "\n",
    "    # Join the wrapped lines back together using newline characters\n",
    "    wrapped_text = '\\n'.join(wrapped_lines)\n",
    "\n",
    "    return wrapped_text\n",
    "\n",
    "def process_llm_response(llm_response):\n",
    "    print(wrap_text_preserve_newlines(llm_response['result']))\n",
    "    \n",
    "    print('\\n\\nSources:')\n",
    "    for source in llm_response[\"source_documents\"]:\n",
    "        print(source.metadata['source'])\n",
    "\n",
    "    print('\\n\\nSources:')\n",
    "    print(llm_response)"
   ]
  },
  {
   "cell_type": "code",
   "execution_count": 17,
   "id": "40a2b54b-e252-404a-a57c-6b112d513c54",
   "metadata": {
    "scrolled": true
   },
   "outputs": [
    {
     "name": "stderr",
     "output_type": "stream",
     "text": [
      "/home/aya/miniconda3/envs/llm/lib/python3.12/site-packages/langchain_core/_api/deprecation.py:119: LangChainDeprecationWarning: The method `Chain.__call__` was deprecated in langchain 0.1.0 and will be removed in 0.3.0. Use invoke instead.\n",
      "  warn_deprecated(\n"
     ]
    },
    {
     "name": "stdout",
     "output_type": "stream",
     "text": [
      "The email ID is ayanavasarka@gmail.com.\n",
      "\n",
      "\n",
      "Sources:\n",
      "extracted_info.txt\n",
      "extracted_info.txt\n",
      "extracted_info.txt\n",
      "\n",
      "\n",
      "Sources:\n",
      "{'query': 'What is the email id?', 'result': 'The email ID is ayanavasarka@gmail.com.', 'source_documents': [Document(page_content=\"Here is the comprehensive analysis of the data provided and extracted personal information about AYANAVA SARKAR:\\n\\n**Contact Information:**\\n• Email: ayanavasarka@gmail.com\\n• Phone Number: (408) 791-7150\\n• Social Media Profiles: \\n  • Github\\n  • LinkedIn\\n  • GoogleScholar\\n\\n**Education:**\\n• Master's Degree in Computer Science from University of Massachusetts, Amherst (September 2019 - May 2021)\\n• Bachelor's Degree in Computer Science from BITS Pilani (2013 - 2017)\\n\\n**Skills:**\\n• Programming languages: \\n  • Python\\n  • Java\\n  • JavaScript\\n  • C++\\n  • R\\n• Libraries/Platforms: \\n  • TensorFlow\\n  • PyTorch\\n  • Diffusers\\n  • LLMs\\n  • HuggingFace\\n  • LangChain\\n  • CUDA\\n  • RAY\\n  • OpenCV\\n  • Spark\\n  • Pandas\\n  • Scikit-learn\\n  • Prefect\\n  • AWS\\n  • ROS\\n  • Gazebo\\n  • MySQL\\n  • GitHub\\n  • Grafana\", metadata={'source': 'extracted_info.txt', 'id': '2a2021fa-a281-4a08-98b0-10ba99027b13'}), Document(page_content='**Work Experience:**\\n• Machine Learning Engineer II at Iterative Health (September 2022 - Present)\\n• Founder at Stealth Startup (August 2023 - March 2024)\\n• AI Research Scientist at Mendel AI (September 2021 - September 2022)\\n• Graduate Student Researcher at Amazon (February 2021 - June 2021)\\n• Data Science Intern at NeuTigers (June 2020 - June 2021)\\n\\n**Publications:**\\n• ICANN, 2018, Greece: “An energy-based convolutional SOM model with self-adaptation capabilities”\\n• 9th IHCI Conference, Paris: “Dynamic Hand Gesture Recognition for Mobile Systems Using Deep RNN with LSTM”\\n• 7th ICMSAO, 2017: “A Collaborative Filtering based Model for Recommending Graduate Schools”\\n• Second IEEE CIICS, 2016: “Gesture Control of Drone Using a Motion Controller”\\n\\n**Achievements:**\\n• Led BITSync 2024 panel for Angel Investing into startups\\n• Software Lead of Team IFOR for International Aerial Robotics Competition, 2015, Georgia, Atlanta', metadata={'source': 'extracted_info.txt', 'id': '6f2cf74f-e6f5-4204-8cf4-b197d8707c33'}), Document(page_content='**Work Experience:**\\n• Machine Learning Engineer II at Iterative Health (September 2022 - Present)\\n• Founder at Stealth Startup (August 2023 - March 2024)\\n• AI Research Scientist at Mendel AI (September 2021 - September 2022)\\n• Graduate Student Researcher at Amazon (February 2021 - June 2021)\\n• Data Science Intern at NeuTigers (June 2020 - June 2021)\\n\\n**Publications:**\\n• ICANN, 2018, Greece: “An energy-based convolutional SOM model with self-adaptation capabilities”\\n• 9th IHCI Conference, Paris: “Dynamic Hand Gesture Recognition for Mobile Systems Using Deep RNN with LSTM”\\n• 7th ICMSAO, 2017: “A Collaborative Filtering based Model for Recommending Graduate Schools”\\n• Second IEEE CIICS, 2016: “Gesture Control of Drone Using a Motion Controller”', metadata={'source': 'extracted_info.txt', 'id': '551dd3fc-df11-41c6-bc2d-c80bd0d10236'})]}\n"
     ]
    }
   ],
   "source": [
    "# full example\n",
    "model = ChatGroq(\n",
    "            api_key=\"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\",\n",
    "            model=\"llama3-70b-8192\"\n",
    "        )\n",
    "query = \"What is the email id?\"\n",
    "llm_response = qa_chain(query)\n",
    "process_llm_response(llm_response)"
   ]
  },
  {
   "cell_type": "code",
   "execution_count": 30,
   "id": "a2d19b89-b77a-461e-8f28-30134c2366e2",
   "metadata": {},
   "outputs": [
    {
     "data": {
      "text/plain": [
       "Document(page_content=\"Here is the comprehensive analysis of the data provided and extracted personal information about AYANAVA SARKAR:\\n\\n**Contact Information:**\\n• Email: ayanavasarka@gmail.com\\n• Phone Number: (408) 791-7150\\n• Social Media Profiles: \\n  • Github\\n  • LinkedIn\\n  • GoogleScholar\\n\\n**Education:**\\n• Master's Degree in Computer Science from University of Massachusetts, Amherst (September 2019 - May 2021)\\n• Bachelor's Degree in Computer Science from BITS Pilani (2013 - 2017)\\n\\n**Skills:**\\n• Programming languages: \\n  • Python\\n  • Java\\n  • JavaScript\\n  • C++\\n  • R\\n• Libraries/Platforms: \\n  • TensorFlow\\n  • PyTorch\\n  • Diffusers\\n  • LLMs\\n  • HuggingFace\\n  • LangChain\\n  • CUDA\\n  • RAY\\n  • OpenCV\\n  • Spark\\n  • Pandas\\n  • Scikit-learn\\n  • Prefect\\n  • AWS\\n  • ROS\\n  • Gazebo\\n  • MySQL\\n  • GitHub\\n  • Grafana\", metadata={'source': 'extracted_info.txt', 'id': '2a2021fa-a281-4a08-98b0-10ba99027b13'})"
      ]
     },
     "execution_count": 30,
     "metadata": {},
     "output_type": "execute_result"
    }
   ],
   "source": [
    "docs = vectordb.similarity_search(\"update email id to aya@gma.com\")\n",
    "docs[0]"
   ]
  },
  {
   "cell_type": "code",
   "execution_count": 31,
   "id": "1af76b65-ef1c-4880-83b9-1bbf453b89c6",
   "metadata": {
    "scrolled": true
   },
   "outputs": [
    {
     "name": "stderr",
     "output_type": "stream",
     "text": [
      "2024-06-23 02:02:36,858 - 140629099390784 - __init__.py-__init__:518 - WARNING: Overriding of current TracerProvider is not allowed\n"
     ]
    },
    {
     "name": "stdout",
     "output_type": "stream",
     "text": [
      "\u001b[1m\u001b[95m [2024-06-23 02:02:36][DEBUG]: == Working Agent: Personal Assistant\u001b[00m\n",
      "\u001b[1m\u001b[95m [2024-06-23 02:02:36][INFO]: == Starting Task: Your task is to understand what category or specific detail the user wants to update in the Update the email id to ayanavas@gmail.com from the Here is the comprehensive analysis of the data provided and extracted personal information about AYANAVA SARKAR:\n",
      "\n",
      "**Contact Information:**\n",
      "• Email: ayanavasarka@gmail.com\n",
      "• Phone Number: (408) 791-7150\n",
      "• Social Media Profiles: \n",
      "  • Github\n",
      "  • LinkedIn\n",
      "  • GoogleScholar\n",
      "\n",
      "**Education:**\n",
      "• Master's Degree in Computer Science from University of Massachusetts, Amherst (September 2019 - May 2021)\n",
      "• Bachelor's Degree in Computer Science from BITS Pilani (2013 - 2017)\n",
      "\n",
      "**Skills:**\n",
      "• Programming languages: \n",
      "  • Python\n",
      "  • Java\n",
      "  • JavaScript\n",
      "  • C++\n",
      "  • R\n",
      "• Libraries/Platforms: \n",
      "  • TensorFlow\n",
      "  • PyTorch\n",
      "  • Diffusers\n",
      "  • LLMs\n",
      "  • HuggingFace\n",
      "  • LangChain\n",
      "  • CUDA\n",
      "  • RAY\n",
      "  • OpenCV\n",
      "  • Spark\n",
      "  • Pandas\n",
      "  • Scikit-learn\n",
      "  • Prefect\n",
      "  • AWS\n",
      "  • ROS\n",
      "  • Gazebo\n",
      "  • MySQL\n",
      "  • GitHub\n",
      "  • Grafana entered \n",
      "                by the user.                 If you do not understand please say that you do not understand what the user wants.\n",
      "                In short perform the following steps:\n",
      "                1. Take the user entered query and figure out what category or detail the user wants to update in the data.\n",
      "                2. From the entered query extract the new information to update the data with.\n",
      "                3. Comprehensively analyze the data given to you and extract the exact part of the data to which you need to update.\n",
      "                4. Update the part of the data.\n",
      "                5. Return the entire data with the updated part.\n",
      "                \u001b[00m\n",
      "\n",
      "\n",
      "\u001b[1m> Entering new CrewAgentExecutor chain...\u001b[0m\n",
      "\u001b[32;1m\u001b[1;3mI understand the task at hand. I will carefully analyze the user's query and the provided data to extract the specific detail or category that the user wants to update.\n",
      "\n",
      "From the user's query \"Update the email id to ayanavas@gmail.com\", I can infer that the user wants to update the email address in the **Contact Information** category.\n",
      "\n",
      "The new information to update the data with is the new email address \"ayanavas@gmail.com\".\n",
      "\n",
      "Upon comprehensively analyzing the data, I find that the exact part of the data that needs to be updated is the email address in the **Contact Information** category, which currently reads \"ayanavasarka@gmail.com\".\n",
      "\n",
      "Thought: I now can give a great answer\n",
      "Final Answer: Here is the updated comprehensive analysis of the data provided and extracted personal information about AYANAVA SARKAR:\n",
      "\n",
      "**Contact Information:**\n",
      "• Email: ayanavas@gmail.com\n",
      "• Phone Number: (408) 791-7150\n",
      "• Social Media Profiles: \n",
      "  • Github\n",
      "  • LinkedIn\n",
      "  • GoogleScholar\n",
      "\n",
      "**Education:**\n",
      "• Master's Degree in Computer Science from University of Massachusetts, Amherst (September 2019 - May 2021)\n",
      "• Bachelor's Degree in Computer Science from BITS Pilani (2013 - 2017)\n",
      "\n",
      "**Skills:**\n",
      "• Programming languages: \n",
      "  • Python\n",
      "  • Java\n",
      "  • JavaScript\n",
      "  • C++\n",
      "  • R\n",
      "• Libraries/Platforms: \n",
      "  • TensorFlow\n",
      "  • PyTorch\n",
      "  • Diffusers\n",
      "  • LLMs\n",
      "  • HuggingFace\n",
      "  • LangChain\n",
      "  • CUDA\n",
      "  • RAY\n",
      "  • OpenCV\n",
      "  • Spark\n",
      "  • Pandas\n",
      "  • Scikit-learn\n",
      "  • Prefect\n",
      "  • AWS\n",
      "  • ROS\n",
      "  • Gazebo\n",
      "  • MySQL\n",
      "  • GitHub\n",
      "  • Grafana\u001b[0m\n",
      "\n",
      "\u001b[1m> Finished chain.\u001b[0m\n",
      "\u001b[1m\u001b[92m [2024-06-23 02:02:38][DEBUG]: == [Personal Assistant] Task output: Here is the updated comprehensive analysis of the data provided and extracted personal information about AYANAVA SARKAR:\n",
      "\n",
      "**Contact Information:**\n",
      "• Email: ayanavas@gmail.com\n",
      "• Phone Number: (408) 791-7150\n",
      "• Social Media Profiles: \n",
      "  • Github\n",
      "  • LinkedIn\n",
      "  • GoogleScholar\n",
      "\n",
      "**Education:**\n",
      "• Master's Degree in Computer Science from University of Massachusetts, Amherst (September 2019 - May 2021)\n",
      "• Bachelor's Degree in Computer Science from BITS Pilani (2013 - 2017)\n",
      "\n",
      "**Skills:**\n",
      "• Programming languages: \n",
      "  • Python\n",
      "  • Java\n",
      "  • JavaScript\n",
      "  • C++\n",
      "  • R\n",
      "• Libraries/Platforms: \n",
      "  • TensorFlow\n",
      "  • PyTorch\n",
      "  • Diffusers\n",
      "  • LLMs\n",
      "  • HuggingFace\n",
      "  • LangChain\n",
      "  • CUDA\n",
      "  • RAY\n",
      "  • OpenCV\n",
      "  • Spark\n",
      "  • Pandas\n",
      "  • Scikit-learn\n",
      "  • Prefect\n",
      "  • AWS\n",
      "  • ROS\n",
      "  • Gazebo\n",
      "  • MySQL\n",
      "  • GitHub\n",
      "  • Grafana\n",
      "\n",
      "\u001b[00m\n"
     ]
    }
   ],
   "source": [
    "ag = agent.update_category()\n",
    "t = tasks.task_update_category(docs[0].page_content, \"Update the email id to ayanavas@gmail.com\", ag)\n",
    "c = Crew(\n",
    "    agents=[ag],\n",
    "    tasks=[t],\n",
    "    verbose=2,\n",
    "    process=Process.sequential,\n",
    "    full_output=True,\n",
    "    share_crew=False,\n",
    ")\n",
    "r = c.kickoff()"
   ]
  },
  {
   "cell_type": "code",
   "execution_count": 32,
   "id": "d5cbfb83-e899-407f-97b7-12f9bc2b9a2c",
   "metadata": {},
   "outputs": [],
   "source": [
    "# update the metadata for a document\n",
    "docs[0].page_content = r['final_output']\n",
    "  \n",
    "# example_db.update_document(ids[0], docs[0])\n",
    "# print(example_db._collection.get(ids=[ids[0]]))"
   ]
  },
  {
   "cell_type": "code",
   "execution_count": 33,
   "id": "4e06cda5-81f0-41a5-b57b-32c57db5e7fc",
   "metadata": {},
   "outputs": [],
   "source": [
    "vectordb.update_document(docs[0].metadata['id'], docs[0])"
   ]
  },
  {
   "cell_type": "code",
   "execution_count": 35,
   "id": "5d763703-8edf-4890-b1f5-9f23aea9af2c",
   "metadata": {},
   "outputs": [
    {
     "data": {
      "text/plain": [
       "{'ids': ['2a2021fa-a281-4a08-98b0-10ba99027b13'],\n",
       " 'embeddings': None,\n",
       " 'metadatas': [{'id': '2a2021fa-a281-4a08-98b0-10ba99027b13',\n",
       "   'source': 'extracted_info.txt'}],\n",
       " 'documents': [\"Here is the updated comprehensive analysis of the data provided and extracted personal information about AYANAVA SARKAR:\\n\\n**Contact Information:**\\n• Email: ayanavas@gmail.com\\n• Phone Number: (408) 791-7150\\n• Social Media Profiles: \\n  • Github\\n  • LinkedIn\\n  • GoogleScholar\\n\\n**Education:**\\n• Master's Degree in Computer Science from University of Massachusetts, Amherst (September 2019 - May 2021)\\n• Bachelor's Degree in Computer Science from BITS Pilani (2013 - 2017)\\n\\n**Skills:**\\n• Programming languages: \\n  • Python\\n  • Java\\n  • JavaScript\\n  • C++\\n  • R\\n• Libraries/Platforms: \\n  • TensorFlow\\n  • PyTorch\\n  • Diffusers\\n  • LLMs\\n  • HuggingFace\\n  • LangChain\\n  • CUDA\\n  • RAY\\n  • OpenCV\\n  • Spark\\n  • Pandas\\n  • Scikit-learn\\n  • Prefect\\n  • AWS\\n  • ROS\\n  • Gazebo\\n  • MySQL\\n  • GitHub\\n  • Grafana\"],\n",
       " 'uris': None,\n",
       " 'data': None}"
      ]
     },
     "execution_count": 35,
     "metadata": {},
     "output_type": "execute_result"
    }
   ],
   "source": [
    "vectordb._collection.get(ids=docs[0].metadata['id'])"
   ]
  },
  {
   "cell_type": "code",
   "execution_count": 46,
   "id": "680c0395-6f08-4574-8f2c-b918200a1f45",
   "metadata": {},
   "outputs": [],
   "source": [
    "vectordb.delete_collection()"
   ]
  },
  {
   "cell_type": "code",
   "execution_count": null,
   "id": "7dc90d7e-7679-4580-bd0b-1d3698811157",
   "metadata": {},
   "outputs": [],
   "source": []
  }
 ],
 "metadata": {
  "kernelspec": {
   "display_name": "Python 3 (ipykernel)",
   "language": "python",
   "name": "python3"
  },
  "language_info": {
   "codemirror_mode": {
    "name": "ipython",
    "version": 3
   },
   "file_extension": ".py",
   "mimetype": "text/x-python",
   "name": "python",
   "nbconvert_exporter": "python",
   "pygments_lexer": "ipython3",
   "version": "3.12.4"
  }
 },
 "nbformat": 4,
 "nbformat_minor": 5
}
